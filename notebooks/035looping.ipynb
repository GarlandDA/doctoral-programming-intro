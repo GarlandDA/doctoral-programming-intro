{
 "cells": [
  {
   "cell_type": "markdown",
   "metadata": {},
   "source": [
    "# Iteration"
   ]
  },
  {
   "cell_type": "markdown",
   "metadata": {},
   "source": [
    "Our other aspect of control is looping back on ourselves.\n",
    "\n",
    "We use `for` ... `in` to \"iterate\" over lists:"
   ]
  },
  {
   "cell_type": "code",
   "execution_count": 27,
   "metadata": {
    "collapsed": false
   },
   "outputs": [
    {
     "name": "stdout",
     "output_type": "stream",
     "text": [
      "0\n",
      "1\n",
      "4\n",
      "9\n",
      "16\n"
     ]
    }
   ],
   "source": [
    "uptofive = range(5)\n",
    "for value in uptofive:\n",
    "    print value**2"
   ]
  },
  {
   "cell_type": "markdown",
   "metadata": {},
   "source": [
    "Each time through the loop, the variable in the `value` slot is updated to the **next** element of the sequence."
   ]
  },
  {
   "cell_type": "markdown",
   "metadata": {},
   "source": [
    "## Iterables"
   ]
  },
  {
   "cell_type": "markdown",
   "metadata": {},
   "source": [
    "\n",
    "Any sequence type is iterable:\n",
    "\n",
    "\n"
   ]
  },
  {
   "cell_type": "code",
   "execution_count": 28,
   "metadata": {
    "collapsed": false
   },
   "outputs": [
    {
     "name": "stdout",
     "output_type": "stream",
     "text": [
      "OOOkaaay\n"
     ]
    }
   ],
   "source": [
    "vowels=\"aeiou\"\n",
    "sarcasm = []\n",
    "for letter in \"Okay\":\n",
    "    if letter.lower() in vowels:\n",
    "        repetition = 3\n",
    "    else:\n",
    "        repetition = 1\n",
    "    sarcasm.append(letter*repetition)\n",
    "\n",
    "print \"\".join(sarcasm)\n"
   ]
  },
  {
   "cell_type": "markdown",
   "metadata": {},
   "source": [
    "##  Dictionaries are Iterables"
   ]
  },
  {
   "cell_type": "markdown",
   "metadata": {},
   "source": [
    "\n",
    "All sequences are iterables. Some iterables are not sequences,\n",
    "including sets and dictionaries.\n",
    "\n",
    "\n"
   ]
  },
  {
   "cell_type": "code",
   "execution_count": 29,
   "metadata": {
    "collapsed": false
   },
   "outputs": [
    {
     "name": "stdout",
     "output_type": "stream",
     "text": [
      "James  is  39 years old.\n",
      "UCL  is  189 years old.\n",
      "Cambridge  is  806 years old.\n"
     ]
    }
   ],
   "source": [
    "import datetime\n",
    "now = datetime.datetime.now()\n",
    "founded = {\"James\": 1976, \"UCL\": 1826, \"Cambridge\": 1209}\n",
    "current_year = now.year\n",
    "\n",
    "for thing in founded:\n",
    "    print thing, \" is \", current_year -  founded[thing], \"years old.\"\n"
   ]
  },
  {
   "cell_type": "markdown",
   "metadata": {},
   "source": [
    "\n",
    "\n"
   ]
  },
  {
   "cell_type": "markdown",
   "metadata": {},
   "source": [
    "## Unpacking and Iteration"
   ]
  },
  {
   "cell_type": "markdown",
   "metadata": {},
   "source": [
    "\n",
    "Unpacking can be useful with iteration:\n",
    "\n",
    "\n"
   ]
  },
  {
   "cell_type": "code",
   "execution_count": 10,
   "metadata": {
    "collapsed": false
   },
   "outputs": [
    {
     "name": "stdout",
     "output_type": "stream",
     "text": [
      "[1, 2, 3]\n",
      "[3, 4, 5]\n",
      "2 1 3\n",
      "4 3 5\n"
     ]
    }
   ],
   "source": [
    "triples=[[1,2,3], [3,4,5]]\n",
    "for triple in triples:\n",
    "    print triple\n",
    "\n",
    "for first, second, third in triples:\n",
    "    print second, first, third\n"
   ]
  },
  {
   "cell_type": "markdown",
   "metadata": {},
   "source": [
    "\n",
    "\n",
    "\n",
    "for example, to iterate over the items in a dictionary as pairs:\n",
    "\n",
    "\n"
   ]
  },
  {
   "cell_type": "code",
   "execution_count": 11,
   "metadata": {
    "collapsed": false
   },
   "outputs": [
    {
     "name": "stdout",
     "output_type": "stream",
     "text": [
      "[('James', 1976), ('UCL', 1826), ('Cambridge', 1209)]\n",
      "James  is  39 years old.\n",
      "UCL  is  189 years old.\n",
      "Cambridge  is  806 years old.\n"
     ]
    }
   ],
   "source": [
    "print founded.items()\n",
    "\n",
    "for thing, year in founded.items():\n",
    "    print thing, \" is \", current_year - year, \"years old.\"\n"
   ]
  },
  {
   "cell_type": "markdown",
   "metadata": {},
   "source": [
    "\n",
    "\n"
   ]
  },
  {
   "cell_type": "markdown",
   "metadata": {},
   "source": [
    "## Break, Continue"
   ]
  },
  {
   "cell_type": "markdown",
   "metadata": {},
   "source": [
    "\n",
    "* Continue skips to the next turn of a loop\n",
    "* Break stops the loop early\n",
    "\n",
    "\n"
   ]
  },
  {
   "cell_type": "code",
   "execution_count": 12,
   "metadata": {
    "collapsed": false
   },
   "outputs": [
    {
     "name": "stdout",
     "output_type": "stream",
     "text": [
      "1\n",
      "3\n",
      "5\n",
      "7\n",
      "9\n",
      "11\n",
      "13\n",
      "15\n",
      "17\n",
      "19\n"
     ]
    }
   ],
   "source": [
    "for n in range(50):\n",
    "    if n==20: break\n",
    "    if n % 2 == 0:\n",
    "        continue\n",
    "    print n\n"
   ]
  },
  {
   "cell_type": "markdown",
   "metadata": {},
   "source": [
    "\n",
    "\n"
   ]
  },
  {
   "cell_type": "markdown",
   "metadata": {},
   "source": [
    "## Break, Continue and Else"
   ]
  },
  {
   "cell_type": "markdown",
   "metadata": {},
   "source": [
    "\n",
    "* An else clause on a loop is executed iff the end of the loop is reached \n",
    "\n",
    "\n"
   ]
  },
  {
   "cell_type": "code",
   "execution_count": 13,
   "metadata": {
    "collapsed": false
   },
   "outputs": [
    {
     "name": "stdout",
     "output_type": "stream",
     "text": [
      "False\n"
     ]
    }
   ],
   "source": [
    "search_in=range(50)\n",
    "for x in search_in:\n",
    "    if x<0:\n",
    "        first_negative = x\n",
    "        break\n",
    "else:\n",
    "    first_negative = False\n",
    "\n",
    "print first_negative\n"
   ]
  },
  {
   "cell_type": "markdown",
   "metadata": {},
   "source": [
    "\n",
    "\n"
   ]
  },
  {
   "cell_type": "markdown",
   "metadata": {},
   "source": [
    "## List and Dictionary Comprehensions"
   ]
  },
  {
   "cell_type": "markdown",
   "metadata": {},
   "source": [
    "\n",
    "If you write a for loop inside a list or dict constructor, you magic up a list.\n",
    "This can make for concise but hard to read code, so be careful.\n",
    "\n",
    "\n"
   ]
  },
  {
   "cell_type": "code",
   "execution_count": 16,
   "metadata": {
    "collapsed": false
   },
   "outputs": [
    {
     "data": {
      "text/plain": [
       "[1, 2, 4, 8, 16, 32, 64, 128, 256, 512]"
      ]
     },
     "execution_count": 16,
     "metadata": {},
     "output_type": "execute_result"
    }
   ],
   "source": [
    "[2**x for x in range(10)]"
   ]
  },
  {
   "cell_type": "code",
   "execution_count": 17,
   "metadata": {
    "collapsed": false
   },
   "outputs": [
    {
     "data": {
      "text/plain": [
       "{'000': 0, '111': 1, '222': 2}"
      ]
     },
     "execution_count": 17,
     "metadata": {},
     "output_type": "execute_result"
    }
   ],
   "source": [
    "\"\".join([x.upper() for x in \"Whatever\" if (x in vowels)])\n",
    "{ (str(x))*3: x for x in range(3) }"
   ]
  },
  {
   "cell_type": "markdown",
   "metadata": {},
   "source": [
    "## Zip and dictionary construction"
   ]
  },
  {
   "cell_type": "markdown",
   "metadata": {},
   "source": [
    "\n",
    "You can use \"zip\" to zip two iterables together.\n",
    "An iterable of pairs can be used to construct a dictionary\n",
    "\n",
    "\n"
   ]
  },
  {
   "cell_type": "code",
   "execution_count": 18,
   "metadata": {
    "collapsed": false
   },
   "outputs": [
    {
     "name": "stdout",
     "output_type": "stream",
     "text": [
      "[(0, -0.0), (1, -1.0), (2, -2.0), (3, -3.0), (4, -4.0), (5, -5.0), (6, -6.0), (7, -7.0), (8, -8.0), (9, -9.0)]\n"
     ]
    }
   ],
   "source": [
    "negatives = zip(range(10), [-1.0*x for x in range(10)])\n",
    "print negatives"
   ]
  },
  {
   "cell_type": "code",
   "execution_count": 19,
   "metadata": {
    "collapsed": false
   },
   "outputs": [
    {
     "name": "stdout",
     "output_type": "stream",
     "text": [
      "-5.0\n"
     ]
    }
   ],
   "source": [
    "neg_dict=dict(negatives)\n",
    "print neg_dict[5]"
   ]
  }
 ],
 "metadata": {
  "jekyll": {
   "display_name": "Control flow"
  },
  "kernelspec": {
   "display_name": "Python 2",
   "language": "python",
   "name": "python2"
  },
  "language_info": {
   "codemirror_mode": {
    "name": "ipython",
    "version": 2
   },
   "file_extension": ".py",
   "mimetype": "text/x-python",
   "name": "python",
   "nbconvert_exporter": "python",
   "pygments_lexer": "ipython2",
   "version": "2.7.9"
  }
 },
 "nbformat": 4,
 "nbformat_minor": 0
}
