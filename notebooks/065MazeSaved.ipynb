{
 "cells": [
  {
   "cell_type": "markdown",
   "metadata": {},
   "source": [
    "## Solution: Saving and Loading a Maze"
   ]
  },
  {
   "cell_type": "code",
   "execution_count": 2,
   "metadata": {
    "collapsed": true
   },
   "outputs": [],
   "source": [
    "house = {\n",
    "    'living' : {\n",
    "        'exits': {\n",
    "            'north' : 'kitchen',\n",
    "            'outside' : 'garden',\n",
    "            'upstairs' : 'bedroom'\n",
    "        },\n",
    "        'people' : ['James'],\n",
    "        'capacity' : 2\n",
    "    },\n",
    "    'kitchen' : {\n",
    "        'exits': {\n",
    "            'south' : 'living'\n",
    "        },\n",
    "        'people' : [],\n",
    "        'capacity' : 1\n",
    "    },\n",
    "    'garden' : {\n",
    "        'exits': {\n",
    "            'inside' : 'living'\n",
    "        },\n",
    "        'people' : ['Sue'],\n",
    "        'capacity' : 3\n",
    "    },\n",
    "    'bedroom' : {\n",
    "        'exits': {\n",
    "            'downstairs' : 'living',\n",
    "            'jump' : 'garden'\n",
    "        },\n",
    "        'people' : [],\n",
    "        'capacity' : 1\n",
    "    }\n",
    "}"
   ]
  },
  {
   "cell_type": "markdown",
   "metadata": {},
   "source": [
    "Save the maze with json:"
   ]
  },
  {
   "cell_type": "code",
   "execution_count": 3,
   "metadata": {
    "collapsed": true
   },
   "outputs": [],
   "source": [
    "import json"
   ]
  },
  {
   "cell_type": "code",
   "execution_count": 4,
   "metadata": {
    "collapsed": false
   },
   "outputs": [],
   "source": [
    "with open('maze.json','w') as json_maze_out:\n",
    "    json_maze_out.write(json.dumps(house))"
   ]
  },
  {
   "cell_type": "markdown",
   "metadata": {},
   "source": [
    "Consider the file on the disk:"
   ]
  },
  {
   "cell_type": "code",
   "execution_count": 5,
   "metadata": {
    "collapsed": false
   },
   "outputs": [
    {
     "name": "stdout",
     "output_type": "stream",
     "text": [
      "{\"living\": {\"capacity\": 2, \"exits\": {\"outside\": \"garden\", \"north\": \"kitchen\", \"upstairs\": \"bedroom\"}, \"people\": [\"James\"]}, \"bedroom\": {\"capacity\": 1, \"exits\": {\"jump\": \"garden\", \"downstairs\": \"living\"}, \"people\": []}, \"garden\": {\"capacity\": 3, \"exits\": {\"inside\": \"living\"}, \"people\": [\"Sue\"]}, \"kitchen\": {\"capacity\": 1, \"exits\": {\"south\": \"living\"}, \"people\": []}}"
     ]
    }
   ],
   "source": [
    "%%bash\n",
    "cat 'maze.json'"
   ]
  },
  {
   "cell_type": "markdown",
   "metadata": {},
   "source": [
    "and now load it into a different variable:"
   ]
  },
  {
   "cell_type": "code",
   "execution_count": 6,
   "metadata": {
    "collapsed": false
   },
   "outputs": [],
   "source": [
    "with open('maze.json') as json_maze_in:\n",
    "    maze_again = json.load(json_maze_in)"
   ]
  },
  {
   "cell_type": "code",
   "execution_count": 8,
   "metadata": {
    "collapsed": false
   },
   "outputs": [
    {
     "data": {
      "text/plain": [
       "{u'bedroom': {u'capacity': 1,\n",
       "  u'exits': {u'downstairs': u'living', u'jump': u'garden'},\n",
       "  u'people': []},\n",
       " u'garden': {u'capacity': 3,\n",
       "  u'exits': {u'inside': u'living'},\n",
       "  u'people': [u'Sue']},\n",
       " u'kitchen': {u'capacity': 1, u'exits': {u'south': u'living'}, u'people': []},\n",
       " u'living': {u'capacity': 2,\n",
       "  u'exits': {u'north': u'kitchen',\n",
       "   u'outside': u'garden',\n",
       "   u'upstairs': u'bedroom'},\n",
       "  u'people': [u'James']}}"
      ]
     },
     "execution_count": 8,
     "metadata": {},
     "output_type": "execute_result"
    }
   ],
   "source": [
    "maze_again"
   ]
  },
  {
   "cell_type": "markdown",
   "metadata": {},
   "source": [
    "Or with YAML:"
   ]
  },
  {
   "cell_type": "code",
   "execution_count": 10,
   "metadata": {
    "collapsed": true
   },
   "outputs": [],
   "source": [
    "import yaml"
   ]
  },
  {
   "cell_type": "code",
   "execution_count": 12,
   "metadata": {
    "collapsed": true
   },
   "outputs": [],
   "source": [
    "with open('maze.yaml','w') as yaml_maze_out:\n",
    "    yaml_maze_out.write(yaml.dump(house))"
   ]
  },
  {
   "cell_type": "code",
   "execution_count": 13,
   "metadata": {
    "collapsed": false
   },
   "outputs": [
    {
     "name": "stdout",
     "output_type": "stream",
     "text": [
      "bedroom:\n",
      "  capacity: 1\n",
      "  exits: {downstairs: living, jump: garden}\n",
      "  people: []\n",
      "garden:\n",
      "  capacity: 3\n",
      "  exits: {inside: living}\n",
      "  people: [Sue]\n",
      "kitchen:\n",
      "  capacity: 1\n",
      "  exits: {south: living}\n",
      "  people: []\n",
      "living:\n",
      "  capacity: 2\n",
      "  exits: {north: kitchen, outside: garden, upstairs: bedroom}\n",
      "  people: [James]\n"
     ]
    }
   ],
   "source": [
    "%%bash\n",
    "cat 'maze.yaml'"
   ]
  },
  {
   "cell_type": "code",
   "execution_count": 14,
   "metadata": {
    "collapsed": true
   },
   "outputs": [],
   "source": [
    "with open('maze.yaml') as yaml_maze_in:\n",
    "    maze_again = yaml.load(yaml_maze_in)"
   ]
  },
  {
   "cell_type": "code",
   "execution_count": 15,
   "metadata": {
    "collapsed": false
   },
   "outputs": [
    {
     "data": {
      "text/plain": [
       "{'bedroom': {'capacity': 1,\n",
       "  'exits': {'downstairs': 'living', 'jump': 'garden'},\n",
       "  'people': []},\n",
       " 'garden': {'capacity': 3, 'exits': {'inside': 'living'}, 'people': ['Sue']},\n",
       " 'kitchen': {'capacity': 1, 'exits': {'south': 'living'}, 'people': []},\n",
       " 'living': {'capacity': 2,\n",
       "  'exits': {'north': 'kitchen', 'outside': 'garden', 'upstairs': 'bedroom'},\n",
       "  'people': ['James']}}"
      ]
     },
     "execution_count": 15,
     "metadata": {},
     "output_type": "execute_result"
    }
   ],
   "source": [
    "maze_again"
   ]
  }
 ],
 "metadata": {
  "jekyll": {
   "display_name": "Maze Files Solution"
  },
  "kernelspec": {
   "display_name": "Python 2",
   "language": "python",
   "name": "python2"
  },
  "language_info": {
   "codemirror_mode": {
    "name": "ipython",
    "version": 2
   },
   "file_extension": ".py",
   "mimetype": "text/x-python",
   "name": "python",
   "nbconvert_exporter": "python",
   "pygments_lexer": "ipython2",
   "version": "2.7.10"
  }
 },
 "nbformat": 4,
 "nbformat_minor": 0
}
