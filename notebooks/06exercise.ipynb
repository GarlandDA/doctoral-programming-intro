{
 "cells": [
  {
   "cell_type": "markdown",
   "metadata": {},
   "source": [
    "# Week 1 Exercise"
   ]
  },
  {
   "cell_type": "markdown",
   "metadata": {},
   "source": [
    "##  Exercises"
   ]
  },
  {
   "cell_type": "markdown",
   "metadata": {},
   "source": [
    "\n",
    "* Each week during the course, there will be an assessed homework exercise.\n",
    "* This will be a pass/fail exercise, submitted through Git, which we will learn about next week.\n",
    "\n",
    "This first week, the exercise will not be assessed, since we're still getting the tools up and running.\n"
   ]
  },
  {
   "cell_type": "markdown",
   "metadata": {},
   "source": [
    "## Installation of Python and IPython Notebook"
   ]
  },
  {
   "cell_type": "markdown",
   "metadata": {},
   "source": [
    "\n",
    "Instead, please concentrate on making sure you've completed the installation instructions, and can run a \n",
    "python file on your computer through the command line, and load an IPython notebook.\n"
   ]
  },
  {
   "cell_type": "markdown",
   "metadata": {},
   "source": [
    "##  Installation of git"
   ]
  },
  {
   "cell_type": "markdown",
   "metadata": {},
   "source": [
    "\n",
    "Please make sure you can run git at the command line ready for next session:\n"
   ]
  },
  {
   "cell_type": "code",
   "execution_count": 30,
   "metadata": {
    "collapsed": false
   },
   "outputs": [
    {
     "name": "stdout",
     "output_type": "stream",
     "text": [
      "git version 2.2.1\n"
     ]
    }
   ],
   "source": [
    "%%bash\n",
    "git --version"
   ]
  },
  {
   "cell_type": "code",
   "execution_count": 31,
   "metadata": {
    "collapsed": false
   },
   "outputs": [
    {
     "name": "stdout",
     "output_type": "stream",
     "text": [
      "Initialized empty Git repository in /Users/jamespjh/devel/rsdt/training/rsd-engineeringcourse/session01/git_test/.git/\n"
     ]
    }
   ],
   "source": [
    "%%bash\n",
    "mkdir -p git_test\n",
    "cd git_test\n",
    "git init"
   ]
  },
  {
   "cell_type": "code",
   "execution_count": 34,
   "metadata": {
    "collapsed": false
   },
   "outputs": [
    {
     "name": "stdout",
     "output_type": "stream",
     "text": [
      "[master (root-commit) 716e2d2] Example commit\n",
      " 1 file changed, 0 insertions(+), 0 deletions(-)\n",
      " create mode 100644 test.txt\n"
     ]
    }
   ],
   "source": [
    "%%bash\n",
    "cd git_test\n",
    "touch test.txt\n",
    "#<edit a file called \"test.txt\">\n",
    "git add .\n",
    "git commit -m \"Example commit\""
   ]
  },
  {
   "cell_type": "code",
   "execution_count": 35,
   "metadata": {
    "collapsed": false
   },
   "outputs": [],
   "source": [
    "%%bash\n",
    "rm -rf git_test"
   ]
  },
  {
   "cell_type": "markdown",
   "metadata": {},
   "source": [
    "##  Sign up on GitHub"
   ]
  },
  {
   "cell_type": "markdown",
   "metadata": {},
   "source": [
    "\n",
    "Go to [GitHub](http://github.com) and create yourself an account, if you haven't already\n"
   ]
  },
  {
   "cell_type": "markdown",
   "metadata": {},
   "source": [
    "## Look at some IPython Notebooks"
   ]
  },
  {
   "cell_type": "markdown",
   "metadata": {},
   "source": [
    "\n",
    "Download yourself some IPython notebooks from [NBViewer](http://nbviewer.ipython.org)\n",
    "Load them up, and have a play."
   ]
  }
 ],
 "metadata": {
  "kernelspec": {
   "display_name": "Python 2",
   "language": "python",
   "name": "python2"
  },
  "language_info": {
   "codemirror_mode": {
    "name": "ipython",
    "version": 2
   },
   "file_extension": ".py",
   "mimetype": "text/x-python",
   "name": "python",
   "nbconvert_exporter": "python",
   "pygments_lexer": "ipython2",
   "version": "2.7.9"
  }
 },
 "nbformat": 4,
 "nbformat_minor": 0
}
