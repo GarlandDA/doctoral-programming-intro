{
 "cells": [
  {
   "cell_type": "markdown",
   "metadata": {},
   "source": [
    "# Working with and visualising data"
   ]
  },
  {
   "cell_type": "markdown",
   "metadata": {},
   "source": [
    "## Why write software to manage your data and plots? "
   ]
  },
  {
   "cell_type": "markdown",
   "metadata": {},
   "source": [
    "We can use programs for our entire research pipeline.\n",
    "\n",
    "Not just big scientific simulation codes, but also the small scripts which we use to\n",
    "tidy up data and produce plots. "
   ]
  },
  {
   "cell_type": "markdown",
   "metadata": {},
   "source": [
    "This should be code, so that the whole research pipeline\n",
    "is recorded for reproducibility. Data manipulation in spreadsheets is much harder to share or \n",
    "check. "
   ]
  },
  {
   "cell_type": "markdown",
   "metadata": {},
   "source": [
    "## A tour of what you can do\n",
    "\n",
    "We're going to start with a look at some of the awesome things that you can do with programming,\n",
    "for motivation for when it gets difficult.\n",
    "\n",
    "However, you *will not* understand all the detail of the code in the next bit, and *nor should you*. (If you do, maybe one of our more advanced courses is more appropriate for you!)"
   ]
  },
  {
   "cell_type": "markdown",
   "metadata": {},
   "source": [
    "###Supplementary materials"
   ]
  },
  {
   "cell_type": "markdown",
   "metadata": {},
   "source": [
    "You can see another similar demonstration on the software carpentry site at\n",
    "http://swcarpentry.github.io/python-novice-inflammation/01-numpy.html \n",
    "We'll try to give links to other sources of Python training along the way.\n",
    "Part of our \"flipped classroom\" approach is that we assume you know how to use the internet! If you\n",
    "find something confusing out there, please bring it along to the next session."
   ]
  },
  {
   "cell_type": "markdown",
   "metadata": {},
   "source": [
    "In this course, we'll always try to draw your attention to other sources of information about what we're learning. Paying attention to as many of these as you need to, is just as important as these core notes."
   ]
  },
  {
   "cell_type": "markdown",
   "metadata": {},
   "source": [
    "###Libraries"
   ]
  },
  {
   "cell_type": "markdown",
   "metadata": {},
   "source": [
    "Research programming is all about using libraries: tools other people have provided programs that do many cool things.\n",
    "By combining them we can feel really powerful but doing minimum work ourselves. The python syntax to import someone else's library is \"import\"."
   ]
  },
  {
   "cell_type": "code",
   "execution_count": 203,
   "metadata": {
    "collapsed": false
   },
   "outputs": [],
   "source": [
    "import geopy # A python library for investigating geographic information.\n",
    "# https://pypi.python.org/pypi/geopy"
   ]
  },
  {
   "cell_type": "markdown",
   "metadata": {},
   "source": [
    "Now, if you try to follow along on this example in an IPython notebook, you'll probably find that \n",
    "you just got an error message.\n",
    "\n",
    "You'll need to wait until we've covered installation of additional python libraries later in the course, then come\n",
    "back to this and try again. For now, just follow along and try get the feel for how programming for data-focused\n",
    "research works."
   ]
  },
  {
   "cell_type": "code",
   "execution_count": 204,
   "metadata": {
    "collapsed": false
   },
   "outputs": [
    {
     "data": {
      "text/plain": [
       "[(u'Cambridge, Cambridge, UK', (52.205337, 0.121817)),\n",
       " (u'Cambridge, Gloucester, Gloucestershire GL2, UK', (51.73193, -2.3649))]"
      ]
     },
     "execution_count": 204,
     "metadata": {},
     "output_type": "execute_result"
    }
   ],
   "source": [
    "geocoder=geopy.geocoders.GoogleV3(domain=\"maps.google.co.uk\")\n",
    "geocoder.geocode('Cambridge',exactly_one=False)"
   ]
  },
  {
   "cell_type": "markdown",
   "metadata": {},
   "source": [
    "The results come out as a **list** inside a list: `[Name, [Latitude, Longitude]]` Programs represent data in a variety of different containers like this."
   ]
  },
  {
   "cell_type": "markdown",
   "metadata": {},
   "source": [
    "### Comments"
   ]
  },
  {
   "cell_type": "code",
   "execution_count": 205,
   "metadata": {
    "collapsed": false
   },
   "outputs": [
    {
     "name": "stdout",
     "output_type": "stream",
     "text": [
      "This runs\n"
     ]
    }
   ],
   "source": [
    "print \"This runs\" # print \"This doesn't\""
   ]
  },
  {
   "cell_type": "markdown",
   "metadata": {},
   "source": [
    "Code after a # symbol doesn't get run."
   ]
  },
  {
   "cell_type": "markdown",
   "metadata": {},
   "source": [
    "###Functions"
   ]
  },
  {
   "cell_type": "markdown",
   "metadata": {},
   "source": [
    "We can wrap code up in a **function**, so that we can repeatedly get just the information we want.\n"
   ]
  },
  {
   "cell_type": "code",
   "execution_count": 206,
   "metadata": {
    "collapsed": false
   },
   "outputs": [],
   "source": [
    "def geolocate(place):\n",
    "  return geocoder.geocode(place, exactly_one = False)[0][1]"
   ]
  },
  {
   "cell_type": "markdown",
   "metadata": {},
   "source": [
    "Defining **functions** which put together code to make a more complex task seem simple from the outside is the most important thing in programming.\n"
   ]
  },
  {
   "cell_type": "markdown",
   "metadata": {},
   "source": [
    "###Variables"
   ]
  },
  {
   "cell_type": "markdown",
   "metadata": {},
   "source": [
    "We can store the result in a variable:"
   ]
  },
  {
   "cell_type": "code",
   "execution_count": 207,
   "metadata": {
    "collapsed": false
   },
   "outputs": [
    {
     "name": "stdout",
     "output_type": "stream",
     "text": [
      "(51.5073509, -0.1277583)\n"
     ]
    }
   ],
   "source": [
    "london_location=geolocate(\"London\")\n",
    "print london_location"
   ]
  },
  {
   "cell_type": "markdown",
   "metadata": {},
   "source": [
    "###More complex functions"
   ]
  },
  {
   "cell_type": "markdown",
   "metadata": {},
   "source": [
    "The google maps API allows us to fetch a map of a place, given a latitude and longitude.\n",
    "The URLs look like: http://maps.googleapis.com/maps/api/staticmap?size=400x400&center=51.51,-0.1275&zoom=12"
   ]
  },
  {
   "cell_type": "markdown",
   "metadata": {},
   "source": [
    "We'll probably end up working out these URLS quite a bit. So we'll make ourselves another function to build up a URL given our parameters."
   ]
  },
  {
   "cell_type": "code",
   "execution_count": 208,
   "metadata": {
    "collapsed": false
   },
   "outputs": [],
   "source": [
    "import requests\n",
    "def request_map_at(lat,long, satellite=True,zoom=10,size=(400,400),sensor=False):\n",
    "  base=\"http://maps.googleapis.com/maps/api/staticmap?\"\n",
    "  \n",
    "  params=dict(\n",
    "    sensor= str(sensor).lower(),\n",
    "    zoom= zoom,\n",
    "    size= \"x\".join(map(str,size)),\n",
    "    center= \",\".join(map(str,(lat,long))),\n",
    "    style=\"feature:all|element:labels|visibility:off\"\n",
    "  )\n",
    "  if satellite:\n",
    "    params[\"maptype\"]=\"satellite\"\n",
    "\n",
    "  return requests.get(base,params=params)"
   ]
  },
  {
   "cell_type": "code",
   "execution_count": 209,
   "metadata": {
    "collapsed": false
   },
   "outputs": [],
   "source": [
    "map_response=request_map_at(51.5072, -0.1275)"
   ]
  },
  {
   "cell_type": "markdown",
   "metadata": {},
   "source": [
    "###Checking our work"
   ]
  },
  {
   "cell_type": "markdown",
   "metadata": {},
   "source": [
    "Let's see what URL we ended up with:"
   ]
  },
  {
   "cell_type": "code",
   "execution_count": 210,
   "metadata": {
    "collapsed": false
   },
   "outputs": [
    {
     "name": "stdout",
     "output_type": "stream",
     "text": [
      "http://maps.googleapis.com/maps/api/staticmap?style=feature%3Aall%7Celement%3Alabels%7Cvisibility%3Aoff&center=51.5072%2C-0.1275&sensor=false&zoom=10&size=400x400\n"
     ]
    }
   ],
   "source": [
    "url=map_response.url\n",
    "print url"
   ]
  },
  {
   "cell_type": "markdown",
   "metadata": {},
   "source": [
    "We can write **automated tests** so that if we change our code later, we can check the results are still valid."
   ]
  },
  {
   "cell_type": "code",
   "execution_count": 211,
   "metadata": {
    "collapsed": false
   },
   "outputs": [],
   "source": [
    "from nose.tools import assert_in\n",
    "assert_in(\"http://maps.googleapis.com/maps/api/staticmap?\",url)\n",
    "assert_in(\"center=51.5072%2C-0.1275\",url)\n",
    "assert_in(\"zoom=10\",url)\n",
    "assert_in(\"size=400x400\",url)\n",
    "assert_in(\"sensor=false\",url)"
   ]
  },
  {
   "cell_type": "markdown",
   "metadata": {},
   "source": [
    "Our previous function comes back with an Object representing the web request. In object oriented programming, we use the .\n",
    "operator to get access to a particular **property** of the object, in this case, the actual image at that URL is in the `content` property. It's a big file, so I'll just get the first few chars:"
   ]
  },
  {
   "cell_type": "code",
   "execution_count": 212,
   "metadata": {
    "collapsed": false
   },
   "outputs": [
    {
     "data": {
      "text/plain": [
       "'\\x89PNG\\r\\n\\x1a\\n\\x00\\x00\\x00\\rIHDR\\x00\\x00\\x01\\x90\\x00\\x00\\x01\\x90\\x08\\x06\\x00\\x00\\x00\\x80\\xbf6\\xcc\\x00\\x00\\x00\\x06bKGD\\x00\\xff\\x00\\xff\\x00\\xff\\xa0\\xbd\\xa7'"
      ]
     },
     "execution_count": 212,
     "metadata": {},
     "output_type": "execute_result"
    }
   ],
   "source": [
    "map_response.content[0:50]"
   ]
  },
  {
   "cell_type": "markdown",
   "metadata": {},
   "source": [
    "###Displaying results"
   ]
  },
  {
   "cell_type": "markdown",
   "metadata": {},
   "source": [
    "I'll need to do this a lot, so I'll wrap up our previous function in another function, to save on typing."
   ]
  },
  {
   "cell_type": "code",
   "execution_count": 213,
   "metadata": {
    "collapsed": true
   },
   "outputs": [],
   "source": [
    "def map_at(*args,**kwargs):\n",
    "    return request_map_at(*args,**kwargs).content"
   ]
  },
  {
   "cell_type": "markdown",
   "metadata": {},
   "source": [
    "I can use a library that comes with IPython notebook to display the image. Being able to work with variables which contain images, or documents, or any other weird kind of data, just as easily as we can with numbers or letters, is one of the really powerful things about modern programming languages like Python. "
   ]
  },
  {
   "cell_type": "code",
   "execution_count": 214,
   "metadata": {
    "collapsed": false
   },
   "outputs": [],
   "source": [
    "import IPython\n",
    "map_png=map_at(*london_location)"
   ]
  },
  {
   "cell_type": "code",
   "execution_count": 215,
   "metadata": {
    "collapsed": false
   },
   "outputs": [
    {
     "name": "stdout",
     "output_type": "stream",
     "text": [
      "The type of our map result is actually a:  <type 'str'>\n"
     ]
    }
   ],
   "source": [
    "print \"The type of our map result is actually a: \", type(map_png)"
   ]
  },
  {
   "cell_type": "code",
   "execution_count": 216,
   "metadata": {
    "collapsed": false
   },
   "outputs": [
    {
     "data": {
      "image/png": "[encoded data removed]",
      "text/plain": [
       "<IPython.core.display.Image object>"
      ]
     },
     "execution_count": 216,
     "metadata": {},
     "output_type": "execute_result"
    }
   ],
   "source": [
    "IPython.core.display.Image(map_png)"
   ]
  },
  {
   "cell_type": "markdown",
   "metadata": {},
   "source": [
    "Now we get to our research project: we want to find out how urbanised the world is, based on satellite imagery, along a line\n",
    "    between two cites. We expect the satellite image to be greener in the countryside."
   ]
  },
  {
   "cell_type": "markdown",
   "metadata": {},
   "source": [
    "We'll use lots more libraries to count how much green there is in an image. This is where you'll definitely stop following if you're new to this. Don't worry. The point is to get a feel for where we're headed."
   ]
  },
  {
   "cell_type": "code",
   "execution_count": 217,
   "metadata": {
    "collapsed": true
   },
   "outputs": [],
   "source": [
    "from StringIO import StringIO # A library to convert between files and strings\n",
    "import numpy as np # A library to deal with matrices\n",
    "from matplotlib import image as img # A library to deal with images"
   ]
  },
  {
   "cell_type": "markdown",
   "metadata": {},
   "source": [
    "Let's define what we count as green:"
   ]
  },
  {
   "cell_type": "code",
   "execution_count": 218,
   "metadata": {
    "collapsed": false
   },
   "outputs": [],
   "source": [
    "def is_green(pixels):\n",
    "    threshold=1.1\n",
    "    greener_than_red = pixels[:,:,1] > threshold* pixels[:,:,0]\n",
    "    greener_than_blue = pixels[:,:,1] > threshold*pixels[:,:,2]\n",
    "    green = np.logical_and(greener_than_red, greener_than_blue) \n",
    "    return green"
   ]
  },
  {
   "cell_type": "markdown",
   "metadata": {},
   "source": [
    "This code has assumed we have our pixel data for the image as a $400 \\times 400 \\times 3$ 3-d matrix,\n",
    "with each of the three layers being red, green, and blue pixels.\n",
    "\n",
    "We find out which pixels are green by comparing, element-by-element, the middle (green, number 1) layer to the top (red, zero) and bottom (blue, 2)"
   ]
  },
  {
   "cell_type": "markdown",
   "metadata": {},
   "source": [
    "Now we just need to parse in our data, which is a PNG image, and turn it into our matrix format:"
   ]
  },
  {
   "cell_type": "code",
   "execution_count": 234,
   "metadata": {
    "collapsed": true
   },
   "outputs": [],
   "source": [
    "def count_green_in_png(data):\n",
    "    pixels=img.imread(StringIO(data)) # Get our PNG image as a numpy array\n",
    "    return np.sum(is_green(pixels))"
   ]
  },
  {
   "cell_type": "code",
   "execution_count": 235,
   "metadata": {
    "collapsed": false
   },
   "outputs": [
    {
     "name": "stdout",
     "output_type": "stream",
     "text": [
      "323\n"
     ]
    }
   ],
   "source": [
    "print count_green_in_png(map_at(*london_location))"
   ]
  },
  {
   "cell_type": "markdown",
   "metadata": {},
   "source": [
    "And to display the green content to check our work:"
   ]
  },
  {
   "cell_type": "code",
   "execution_count": 236,
   "metadata": {
    "collapsed": true
   },
   "outputs": [],
   "source": [
    "def show_green_in_png(data):\n",
    "    pixels=img.imread(StringIO(data)) # Get our PNG image as rows of pixels\n",
    "    green = is_green(pixels)\n",
    "\n",
    "    out = green[:,:,np.newaxis]*array([0,1,0])[np.newaxis,np.newaxis,:]\n",
    "    \n",
    "\n",
    "    buffer = StringIO()\n",
    "    result = img.imsave(buffer, out, format='png')\n",
    "    return buffer.getvalue()"
   ]
  },
  {
   "cell_type": "code",
   "execution_count": 237,
   "metadata": {
    "collapsed": false
   },
   "outputs": [
    {
     "data": {
      "image/png": "[encoded data removed]",
      "text/plain": [
       "<IPython.core.display.Image object>"
      ]
     },
     "execution_count": 237,
     "metadata": {},
     "output_type": "execute_result"
    }
   ],
   "source": [
    "IPython.core.display.Image(\n",
    "    map_at(*london_location,satellite=True)\n",
    ")"
   ]
  },
  {
   "cell_type": "code",
   "execution_count": 223,
   "metadata": {
    "collapsed": false
   },
   "outputs": [
    {
     "data": {
      "image/png": "[encoded data removed]",
      "text/plain": [
       "<IPython.core.display.Image object>"
      ]
     },
     "execution_count": 223,
     "metadata": {},
     "output_type": "execute_result"
    }
   ],
   "source": [
    "IPython.core.display.Image(\n",
    "    show_green_in_png(\n",
    "        map_at(\n",
    "            *london_location,\n",
    "            satellite=True)))"
   ]
  },
  {
   "cell_type": "markdown",
   "metadata": {},
   "source": [
    "Now let's write a function to get an evenly spaced set of places between two places:"
   ]
  },
  {
   "cell_type": "code",
   "execution_count": 249,
   "metadata": {
    "collapsed": true
   },
   "outputs": [],
   "source": [
    "def location_sequence(start, end, steps):\n",
    "  lats = np.linspace(start[0], end[0], steps) # \"Linearly spaced\" data\n",
    "  longs = np.linspace(start[1],end[1], steps)\n",
    "  return np.vstack([lats, longs]).transpose()"
   ]
  },
  {
   "cell_type": "code",
   "execution_count": 239,
   "metadata": {
    "collapsed": false
   },
   "outputs": [
    {
     "data": {
      "text/plain": [
       "array([[  5.15073509e+01,  -1.27758300e-01],\n",
       "       [  5.15849049e+01,  -1.00027711e-01],\n",
       "       [  5.16624589e+01,  -7.22971222e-02],\n",
       "       [  5.17400129e+01,  -4.45665333e-02],\n",
       "       [  5.18175669e+01,  -1.68359444e-02],\n",
       "       [  5.18951210e+01,   1.08946444e-02],\n",
       "       [  5.19726750e+01,   3.86252333e-02],\n",
       "       [  5.20502290e+01,   6.63558222e-02],\n",
       "       [  5.21277830e+01,   9.40864111e-02],\n",
       "       [  5.22053370e+01,   1.21817000e-01]])"
      ]
     },
     "execution_count": 239,
     "metadata": {},
     "output_type": "execute_result"
    }
   ],
   "source": [
    "location_sequence(geolocate(\"London\"), geolocate(\"Cambridge\"), 10)"
   ]
  },
  {
   "cell_type": "markdown",
   "metadata": {},
   "source": [
    "###Looping"
   ]
  },
  {
   "cell_type": "code",
   "execution_count": 244,
   "metadata": {
    "collapsed": false
   },
   "outputs": [
    {
     "data": {
      "image/png": "[encoded data removed]",
      "text/plain": [
       "<IPython.core.display.Image object>"
      ]
     },
     "metadata": {},
     "output_type": "display_data"
    },
    {
     "data": {
      "image/png": "[encoded data removed]",
      "text/plain": [
       "<IPython.core.display.Image object>"
      ]
     },
     "metadata": {},
     "output_type": "display_data"
    },
    {
     "data": {
      "image/png": "[encoded data removed]",
      "text/plain": [
       "<IPython.core.display.Image object>"
      ]
     },
     "metadata": {},
     "output_type": "display_data"
    },
    {
     "data": {
      "image/png": "[encoded data removed]",
      "text/plain": [
       "<IPython.core.display.Image object>"
      ]
     },
     "metadata": {},
     "output_type": "display_data"
    },
    {
     "data": {
      "image/png": "[encoded data removed]",
      "text/plain": [
       "<IPython.core.display.Image object>"
      ]
     },
     "metadata": {},
     "output_type": "display_data"
    },
    {
     "data": {
      "image/png": "[encoded data removed]",
      "text/plain": [
       "<IPython.core.display.Image object>"
      ]
     },
     "metadata": {},
     "output_type": "display_data"
    },
    {
     "data": {
      "image/png": "[encoded data removed]",
      "text/plain": [
       "<IPython.core.display.Image object>"
      ]
     },
     "metadata": {},
     "output_type": "display_data"
    },
    {
     "data": {
      "image/png": "[encoded data removed]",
      "text/plain": [
       "<IPython.core.display.Image object>"
      ]
     },
     "metadata": {},
     "output_type": "display_data"
    },
    {
     "data": {
      "image/png": "[encoded data removed]",
      "text/plain": [
       "<IPython.core.display.Image object>"
      ]
     },
     "metadata": {},
     "output_type": "display_data"
    },
    {
     "data": {
      "image/png": "[encoded data removed]",
      "text/plain": [
       "<IPython.core.display.Image object>"
      ]
     },
     "metadata": {},
     "output_type": "display_data"
    }
   ],
   "source": [
    "for location in location_sequence(geolocate(\"London\"), geolocate(\"Birmingham\"),10):\n",
    "    IPython.core.display.display( IPython.core.display.Image(map_at(*location)))"
   ]
  },
  {
   "cell_type": "markdown",
   "metadata": {},
   "source": [
    "So now we can count the green from London to Birmingham!"
   ]
  },
  {
   "cell_type": "code",
   "execution_count": 245,
   "metadata": {
    "collapsed": false
   },
   "outputs": [
    {
     "data": {
      "text/plain": [
       "[323, 323, 323, 323, 323, 323, 323, 323, 323, 323]"
      ]
     },
     "execution_count": 245,
     "metadata": {},
     "output_type": "execute_result"
    }
   ],
   "source": [
    "[count_green_in_png(map_at(*location))\n",
    "\n",
    "            for location in location_sequence(geolocate(\"London\"),\n",
    "                                              geolocate(\"Birmingham\"),\n",
    "                                              10)]"
   ]
  },
  {
   "cell_type": "markdown",
   "metadata": {
    "collapsed": true
   },
   "source": [
    "### Plotting"
   ]
  },
  {
   "cell_type": "markdown",
   "metadata": {},
   "source": [
    "Let's plot a graph."
   ]
  },
  {
   "cell_type": "code",
   "execution_count": 242,
   "metadata": {
    "collapsed": false
   },
   "outputs": [],
   "source": [
    "import matplotlib.pyplot as plt\n",
    "%matplotlib inline"
   ]
  },
  {
   "cell_type": "code",
   "execution_count": 246,
   "metadata": {
    "collapsed": false
   },
   "outputs": [
    {
     "data": {
      "text/plain": [
       "[<matplotlib.lines.Line2D at 0x107caea90>]"
      ]
     },
     "execution_count": 246,
     "metadata": {},
     "output_type": "execute_result"
    },
    {
     "data": {
      "image/png": "[encoded data removed]",
      "text/plain": [
       "<matplotlib.figure.Figure at 0x107c2d9d0>"
      ]
     },
     "metadata": {},
     "output_type": "display_data"
    }
   ],
   "source": [
    "plt.plot([count_green_in_png(map_at(*location))\n",
    "            for location in location_sequence(geolocate(\"London\"), \n",
    "                                              geolocate(\"Birmingham\"), \n",
    "                                              10)])"
   ]
  },
  {
   "cell_type": "markdown",
   "metadata": {},
   "source": [
    "From a research perspective, of course, this code needs a lot of work. But I hope the power of using programming is clear.\n"
   ]
  },
  {
   "cell_type": "markdown",
   "metadata": {},
   "source": [
    "We built little pieces of useful code, to:\n",
    "* Find latitude and longitude of a place\n",
    "* Get a map at a given latitude and longitude\n",
    "* Decide whether a (red,green,blue) triple is mainly green\n",
    "* Decide whether each pixel is mainly green\n",
    "* Plot a new image showing the green places\n",
    "* Find evenly spaced points between two places"
   ]
  },
  {
   "cell_type": "markdown",
   "metadata": {},
   "source": [
    "By putting these together, we can make a function which can plot this graph automatically for any two places:"
   ]
  },
  {
   "cell_type": "code",
   "execution_count": 247,
   "metadata": {
    "collapsed": true
   },
   "outputs": [],
   "source": [
    "def green_between(start, end,steps):\n",
    "    return [count_green_in_png(map_at(*location))\n",
    "            for location in location_sequence(\n",
    "                            geolocate(start),\n",
    "                            geolocate(end),\n",
    "                            steps)]"
   ]
  },
  {
   "cell_type": "code",
   "execution_count": 248,
   "metadata": {
    "collapsed": false
   },
   "outputs": [
    {
     "data": {
      "text/plain": [
       "[<matplotlib.lines.Line2D at 0x108594ed0>]"
      ]
     },
     "execution_count": 248,
     "metadata": {},
     "output_type": "execute_result"
    },
    {
     "data": {
      "image/png": "[encoded data removed]",
      "text/plain": [
       "<matplotlib.figure.Figure at 0x107c419d0>"
      ]
     },
     "metadata": {},
     "output_type": "display_data"
    }
   ],
   "source": [
    "plt.plot(green_between('New York','Chicago',20))"
   ]
  },
  {
   "cell_type": "markdown",
   "metadata": {
    "collapsed": true
   },
   "source": [
    "And that's it! We've covered, very very quickly, the majority of the python language, and much of the theory of software engineering."
   ]
  },
  {
   "cell_type": "markdown",
   "metadata": {},
   "source": [
    "Now we'll go back, carefully, through all the concepts we touched on, and learn how to use them properly ourselves."
   ]
  }
 ],
 "metadata": {
  "jekyll": {
   "display_name": "An example program"
  },
  "kernelspec": {
   "display_name": "Python 2",
   "language": "python",
   "name": "python2"
  },
  "language_info": {
   "codemirror_mode": {
    "name": "ipython",
    "version": 2
   },
   "file_extension": ".py",
   "mimetype": "text/x-python",
   "name": "python",
   "nbconvert_exporter": "python",
   "pygments_lexer": "ipython2",
   "version": "2.7.9"
  }
 },
 "nbformat": 4,
 "nbformat_minor": 0
}
