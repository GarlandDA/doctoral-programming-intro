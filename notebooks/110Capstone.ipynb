{
 "cells": [
  {
   "cell_type": "markdown",
   "metadata": {},
   "source": [
    "# Understanding the \"Greengraph\" Example"
   ]
  },
  {
   "cell_type": "markdown",
   "metadata": {},
   "source": [
    "We now know enough to understand everything we did in the initial example."
   ]
  },
  {
   "cell_type": "markdown",
   "metadata": {},
   "source": [
    "###Libraries"
   ]
  },
  {
   "cell_type": "markdown",
   "metadata": {},
   "source": [
    "We can import the relevant libraries, and install them if we need to:"
   ]
  },
  {
   "cell_type": "code",
   "execution_count": 144,
   "metadata": {
    "collapsed": false
   },
   "outputs": [],
   "source": [
    "import geopy\n",
    "import numpy as np\n",
    "import png\n",
    "from StringIO import StringIO\n",
    "import requests\n",
    "from matplotlib import pyplot as plt\n",
    "from matplotlib import image as img\n",
    "%matplotlib inline"
   ]
  },
  {
   "cell_type": "markdown",
   "metadata": {},
   "source": [
    "###Classes for Greengraph"
   ]
  },
  {
   "cell_type": "code",
   "execution_count": 190,
   "metadata": {
    "collapsed": false
   },
   "outputs": [],
   "source": [
    "class Greengraph(object):\n",
    "    def __init__(self, start, end):\n",
    "        self.start=start\n",
    "        self.end=end\n",
    "        self.geocoder=geopy.geocoders.GoogleV3(domain=\"maps.google.co.uk\")\n",
    "        \n",
    "    def geolocate(self, place):\n",
    "        return self.geocoder.geocode(place, exactly_one=False)[0][1]\n",
    "    \n",
    "    def location_sequence(start,end,steps):\n",
    "      lats = np.linspace(start[0], end[0], steps)\n",
    "      longs = np.linspace(start[1],end[1], steps)\n",
    "      return np.vstack([lats, longs]).transpose()\n",
    "\n",
    "    def green_between(self, steps):\n",
    "        return [Map(*location).count_green()\n",
    "                for location in location_sequence(\n",
    "                    self.geolocate(self.start), \n",
    "                    self.geolocate(self.end),\n",
    "                    steps)]"
   ]
  },
  {
   "cell_type": "code",
   "execution_count": 19,
   "metadata": {
    "collapsed": true
   },
   "outputs": [],
   "source": [
    "class Map(object):\n",
    "    def __init__(self, lat, long, satellite=True, zoom=10, size=(400,400), sensor=False):\n",
    "        base=\"http://maps.googleapis.com/maps/api/staticmap?\"\n",
    "  \n",
    "        params=dict(\n",
    "            sensor= str(sensor).lower(),\n",
    "            zoom= zoom,\n",
    "            size= \"x\".join(map(str, size)),\n",
    "            center= \",\".join(map(str, (lat, long) )),\n",
    "            style=\"feature:all|element:labels|visibility:off\"\n",
    "          )\n",
    "    \n",
    "        if satellite:\n",
    "            params[\"maptype\"]=\"satellite\"\n",
    "            \n",
    "        self.image = requests.get(base, params=params).content # Fetch our PNG image data\n",
    "        self.pixels= img.imread(StringIO(self.image)) # Parse our PNG image as a numpy array\n",
    "        \n",
    "    def green(self):\n",
    "        threshold=1.1\n",
    "        # Use NumPy to build an element-by-element logical array\n",
    "        greener_than_red = self.pixels[:,:,1] > threshold* self.pixels[:,:,0]\n",
    "        greener_than_blue = self.pixels[:,:,1] > threshold*self.pixels[:,:,2]\n",
    "        green = np.logical_and(greener_than_red, greener_than_blue) \n",
    "        return green\n",
    "    \n",
    "    def count_green(self):\n",
    "        return np.sum(self.green())\n",
    "    \n",
    "    def show_green(data):\n",
    "        green = self.green()\n",
    "        out = green[:,:,np.newaxis]*array([0,1,0])[np.newaxis,np.newaxis,:]\n",
    "        buffer = StringIO()\n",
    "        result = img.imsave(buffer, out, format='png')\n",
    "        return buffer.getvalue()"
   ]
  },
  {
   "cell_type": "markdown",
   "metadata": {},
   "source": [
    "###Invoking our code and making a plot"
   ]
  },
  {
   "cell_type": "code",
   "execution_count": 192,
   "metadata": {
    "collapsed": false
   },
   "outputs": [
    {
     "data": {
      "text/plain": [
       "[323,\n",
       " 323,\n",
       " 323,\n",
       " 323,\n",
       " 323,\n",
       " 323,\n",
       " 323,\n",
       " 323,\n",
       " 323,\n",
       " 323,\n",
       " 323,\n",
       " 323,\n",
       " 323,\n",
       " 323,\n",
       " 323,\n",
       " 323,\n",
       " 323,\n",
       " 323,\n",
       " 323,\n",
       " 323]"
      ]
     },
     "execution_count": 192,
     "metadata": {},
     "output_type": "execute_result"
    }
   ],
   "source": [
    "mygraph=Greengraph('New York','Chicago')\n",
    "data = mygraph.green_between(20)\n",
    "data"
   ]
  },
  {
   "cell_type": "code",
   "execution_count": 193,
   "metadata": {
    "collapsed": false
   },
   "outputs": [
    {
     "data": {
      "text/plain": [
       "[<matplotlib.lines.Line2D at 0x10f7684d0>]"
      ]
     },
     "execution_count": 193,
     "metadata": {},
     "output_type": "execute_result"
    },
    {
     "data": {
      "image/png": "[encoded data removed]",
      "text/plain": [
       "<matplotlib.figure.Figure at 0x10f8c30d0>"
      ]
     },
     "metadata": {},
     "output_type": "display_data"
    }
   ],
   "source": [
    "plt.plot(data)"
   ]
  },
  {
   "cell_type": "code",
   "execution_count": null,
   "metadata": {
    "collapsed": true
   },
   "outputs": [],
   "source": []
  }
 ],
 "metadata": {
  "jekyll": {
   "display_name": "Understanding the Exemplar"
  },
  "kernelspec": {
   "display_name": "Python 2",
   "language": "python",
   "name": "python2"
  },
  "language_info": {
   "codemirror_mode": {
    "name": "ipython",
    "version": 2
   },
   "file_extension": ".py",
   "mimetype": "text/x-python",
   "name": "python",
   "nbconvert_exporter": "python",
   "pygments_lexer": "ipython2",
   "version": "2.7.9"
  }
 },
 "nbformat": 4,
 "nbformat_minor": 0
}
